{
 "cells": [
  {
   "cell_type": "markdown",
   "metadata": {
    "id": "c1gUG3OCJ5GS"
   },
   "source": [
    "# **BipedalWalker-v3 Example in ElegantRL**\n",
    "\n",
    "\n",
    "\n",
    "\n"
   ]
  },
  {
   "cell_type": "markdown",
   "metadata": {
    "id": "FGXyBBvL0dR2"
   },
   "source": [
    "# **Task Description**\n",
    "\n",
    "[BipedalWalker-v3](https://gym.openai.com/envs/BipedalWalker-v2/) is a robotic task in OpenAI Gym since it performs one of the most fundamental skills: moving. In this task, our goal is to get a 2D bipedal walker to walk through rough terrain. BipedalWalker is a difficult task in continuous action space, and there are only a few RL implementations can reach the target reward."
   ]
  },
  {
   "cell_type": "markdown",
   "metadata": {
    "id": "DbamGVHC3AeW"
   },
   "source": [
    "# **Part 1: Install ElegantRL**"
   ]
  },
  {
   "cell_type": "code",
   "execution_count": 1,
   "metadata": {
    "colab": {
     "base_uri": "https://localhost:8080/"
    },
    "id": "U35bhkUqOqbS",
    "outputId": "d197db78-5cf5-49a1-c436-a8751b5de5cd"
   },
   "outputs": [
    {
     "name": "stdout",
     "output_type": "stream",
     "text": [
      "Collecting git+https://github.com/AI4Finance-LLC/ElegantRL.git\n",
      "  Cloning https://github.com/AI4Finance-LLC/ElegantRL.git to c:\\users\\admin\\appdata\\local\\temp\\pip-req-build-6xn5srxu\n",
      "Requirement already satisfied (use --upgrade to upgrade): elegantrl==0.3.6 from git+https://github.com/AI4Finance-LLC/ElegantRL.git in c:\\users\\admin\\.pyenv\\pyenv-win\\versions\\3.7.9\\lib\\site-packages\n",
      "Requirement already satisfied: torch in c:\\users\\admin\\.pyenv\\pyenv-win\\versions\\3.7.9\\lib\\site-packages (from elegantrl==0.3.6) (1.13.1)\n",
      "Requirement already satisfied: numpy in c:\\users\\admin\\.pyenv\\pyenv-win\\versions\\3.7.9\\lib\\site-packages (from elegantrl==0.3.6) (1.21.6)\n",
      "Requirement already satisfied: matplotlib in c:\\users\\admin\\.pyenv\\pyenv-win\\versions\\3.7.9\\lib\\site-packages (from elegantrl==0.3.6) (3.5.3)\n",
      "Requirement already satisfied: gym in c:\\users\\admin\\.pyenv\\pyenv-win\\versions\\3.7.9\\lib\\site-packages (from elegantrl==0.3.6) (0.25.1)\n",
      "Requirement already satisfied: typing-extensions in c:\\users\\admin\\.pyenv\\pyenv-win\\versions\\3.7.9\\lib\\site-packages (from torch->elegantrl==0.3.6) (4.7.1)\n",
      "Requirement already satisfied: cycler>=0.10 in c:\\users\\admin\\.pyenv\\pyenv-win\\versions\\3.7.9\\lib\\site-packages (from matplotlib->elegantrl==0.3.6) (0.11.0)\n",
      "Requirement already satisfied: kiwisolver>=1.0.1 in c:\\users\\admin\\.pyenv\\pyenv-win\\versions\\3.7.9\\lib\\site-packages (from matplotlib->elegantrl==0.3.6) (1.4.5)\n",
      "Requirement already satisfied: python-dateutil>=2.7 in c:\\users\\admin\\.pyenv\\pyenv-win\\versions\\3.7.9\\lib\\site-packages (from matplotlib->elegantrl==0.3.6) (2.8.2)\n",
      "Requirement already satisfied: fonttools>=4.22.0 in c:\\users\\admin\\.pyenv\\pyenv-win\\versions\\3.7.9\\lib\\site-packages (from matplotlib->elegantrl==0.3.6) (4.38.0)\n",
      "Requirement already satisfied: packaging>=20.0 in c:\\users\\admin\\.pyenv\\pyenv-win\\versions\\3.7.9\\lib\\site-packages (from matplotlib->elegantrl==0.3.6) (23.2)\n",
      "Requirement already satisfied: pyparsing>=2.2.1 in c:\\users\\admin\\.pyenv\\pyenv-win\\versions\\3.7.9\\lib\\site-packages (from matplotlib->elegantrl==0.3.6) (3.1.1)\n",
      "Requirement already satisfied: pillow>=6.2.0 in c:\\users\\admin\\.pyenv\\pyenv-win\\versions\\3.7.9\\lib\\site-packages (from matplotlib->elegantrl==0.3.6) (9.5.0)\n",
      "Requirement already satisfied: cloudpickle>=1.2.0 in c:\\users\\admin\\.pyenv\\pyenv-win\\versions\\3.7.9\\lib\\site-packages (from gym->elegantrl==0.3.6) (2.2.1)\n",
      "Requirement already satisfied: gym-notices>=0.0.4 in c:\\users\\admin\\.pyenv\\pyenv-win\\versions\\3.7.9\\lib\\site-packages (from gym->elegantrl==0.3.6) (0.0.8)\n",
      "Requirement already satisfied: importlib-metadata>=4.8.0; python_version < \"3.10\" in c:\\users\\admin\\.pyenv\\pyenv-win\\versions\\3.7.9\\lib\\site-packages (from gym->elegantrl==0.3.6) (6.7.0)\n",
      "Requirement already satisfied: six>=1.5 in c:\\users\\admin\\.pyenv\\pyenv-win\\versions\\3.7.9\\lib\\site-packages (from python-dateutil>=2.7->matplotlib->elegantrl==0.3.6) (1.16.0)\n",
      "Requirement already satisfied: zipp>=0.5 in c:\\users\\admin\\.pyenv\\pyenv-win\\versions\\3.7.9\\lib\\site-packages (from importlib-metadata>=4.8.0; python_version < \"3.10\"->gym->elegantrl==0.3.6) (3.15.0)\n",
      "Building wheels for collected packages: elegantrl\n",
      "  Building wheel for elegantrl (setup.py): started\n",
      "  Building wheel for elegantrl (setup.py): finished with status 'done'\n",
      "  Created wheel for elegantrl: filename=elegantrl-0.3.6-py3-none-any.whl size=198366 sha256=7035d2dd710a55e46bbfa03d4bf83767a6ddca6474a8575edf80db46e0d9bd12\n",
      "  Stored in directory: C:\\Users\\Admin\\AppData\\Local\\Temp\\pip-ephem-wheel-cache-q0b49ygq\\wheels\\52\\9a\\b3\\08c8a0b5be22a65da0132538c05e7e961b1253c90d6845e0c6\n",
      "Successfully built elegantrl\n"
     ]
    },
    {
     "name": "stderr",
     "output_type": "stream",
     "text": [
      "  Running command git clone -q https://github.com/AI4Finance-LLC/ElegantRL.git 'C:\\Users\\Admin\\AppData\\Local\\Temp\\pip-req-build-6xn5srxu'\n",
      "WARNING: You are using pip version 20.1.1; however, version 24.0 is available.\n",
      "You should consider upgrading via the 'c:\\users\\admin\\.pyenv\\pyenv-win\\versions\\3.7.9\\python.exe -m pip install --upgrade pip' command.\n"
     ]
    }
   ],
   "source": [
    "# install elegantrl library\n",
    "!pip install git+https://github.com/AI4Finance-LLC/ElegantRL.git"
   ]
  },
  {
   "cell_type": "markdown",
   "metadata": {
    "id": "UVdmpnK_3Zcn"
   },
   "source": [
    "# **Part 2: Import Packages**\n",
    "\n",
    "\n",
    "*   **elegantrl**\n",
    "*   **OpenAI Gym**: a toolkit for developing and comparing reinforcement learning algorithms.\n",
    "\n"
   ]
  },
  {
   "cell_type": "code",
   "execution_count": 1,
   "metadata": {
    "colab": {
     "base_uri": "https://localhost:8080/",
     "height": 398
    },
    "id": "AAPdjovQrTpE",
    "outputId": "f4e7b627-0a10-492c-f244-f2e2cd5b21c7"
   },
   "outputs": [
    {
     "name": "stderr",
     "output_type": "stream",
     "text": [
      "c:\\users\\admin\\.pyenv\\pyenv-win\\versions\\3.7.9\\lib\\site-packages\\numpy\\_distributor_init.py:32: UserWarning: loaded more than 1 DLL from .libs:\n",
      "c:\\users\\admin\\.pyenv\\pyenv-win\\versions\\3.7.9\\lib\\site-packages\\numpy\\.libs\\libopenblas.IPBC74C7KURV7CB2PKT5Z5FNR3SIBV4J.gfortran-win_amd64.dll\n",
      "c:\\users\\admin\\.pyenv\\pyenv-win\\versions\\3.7.9\\lib\\site-packages\\numpy\\.libs\\libopenblas.XWYDX2IKJW2NMTWSFYNGFUWKQU3LYTCZ.gfortran-win_amd64.dll\n",
      "  stacklevel=1)\n"
     ]
    }
   ],
   "source": [
    "import gym\n",
    "from elegantrl.agents import AgentPPO\n",
    "from elegantrl.train.config import get_gym_env_args, Config\n",
    "from elegantrl.train.run import *\n",
    "\n",
    "gym.logger.set_level(40) # Block warning"
   ]
  },
  {
   "cell_type": "markdown",
   "metadata": {
    "id": "z2Ik5cDoyPGU"
   },
   "source": [
    "# **Part 3: Get environment information**"
   ]
  },
  {
   "cell_type": "code",
   "execution_count": 2,
   "metadata": {
    "colab": {
     "base_uri": "https://localhost:8080/"
    },
    "id": "wwkZXiHtyV6f",
    "outputId": "880d25f5-d1f0-4cd2-8f78-bb5409330101"
   },
   "outputs": [
    {
     "data": {
      "text/plain": [
       "{'env_name': 'BipedalWalker-v3',\n",
       " 'num_envs': 1,\n",
       " 'max_step': 1600,\n",
       " 'state_dim': 24,\n",
       " 'action_dim': 4,\n",
       " 'if_discrete': False}"
      ]
     },
     "execution_count": 2,
     "metadata": {},
     "output_type": "execute_result"
    }
   ],
   "source": [
    "get_gym_env_args(gym.make(\"BipedalWalker-v3\"), if_print=False)"
   ]
  },
  {
   "cell_type": "markdown",
   "metadata": {
    "id": "3n8zcgcn14uq"
   },
   "source": [
    "# **Part 4: Specify Agent and Environment**\n",
    "\n",
    "*   **agent**: chooses a agent (DRL algorithm) from a set of agents in the [directory](https://github.com/AI4Finance-Foundation/ElegantRL/tree/master/elegantrl/agents).\n",
    "*   **env_func**: the function to create an environment, in this case, we use gym.make to create BipedalWalker-v3.\n",
    "*   **env_args**: the environment information.\n"
   ]
  },
  {
   "cell_type": "code",
   "execution_count": 3,
   "metadata": {
    "id": "E03f6cTeajK4"
   },
   "outputs": [],
   "source": [
    "env_func = gym.make\n",
    "env_args = {\n",
    "    \"env_num\": 1,\n",
    "    \"env_name\": \"BipedalWalker-v3\",\n",
    "    \"max_step\": 1600,\n",
    "    \"state_dim\": 24,\n",
    "    \"action_dim\": 4,\n",
    "    \"if_discrete\": False,\n",
    "    \"target_return\": 300,\n",
    "    \"id\": \"BipedalWalker-v3\",\n",
    "}\n",
    "# env = build_env(env_class=env_func, env_args=env_args)\n",
    "args = Config(AgentPPO, env_class=env_func, env_args=env_args)"
   ]
  },
  {
   "cell_type": "markdown",
   "metadata": {
    "id": "rcFcUkwfzHLE"
   },
   "source": [
    "# **Part 4: Specify hyper-parameters**\n",
    "A list of hyper-parameters is available [here](https://elegantrl.readthedocs.io/en/latest/api/config.html)."
   ]
  },
  {
   "cell_type": "code",
   "execution_count": 6,
   "metadata": {
    "id": "9WCAcmIfzGyE"
   },
   "outputs": [],
   "source": [
    "args.target_step = args.max_step * 4\n",
    "args.gamma = 0.98\n",
    "args.eval_times = 2**2\n",
    "args.repeat_times = 8\n",
    "args.break_step =  5000000"
   ]
  },
  {
   "cell_type": "markdown",
   "metadata": {
    "id": "z1j5kLHF2dhJ"
   },
   "source": [
    "# **Part 5: Train and Evaluate the Agent**\n",
    "\n",
    "\n",
    "\n",
    "\n"
   ]
  },
  {
   "cell_type": "code",
   "execution_count": null,
   "metadata": {
    "colab": {
     "base_uri": "https://localhost:8080/"
    },
    "id": "KGOPSD6da23k",
    "outputId": "2a8ed03b-b306-45f8-c530-adf72438c5bd",
    "scrolled": true
   },
   "outputs": [],
   "source": [
    "train_agent(args)"
   ]
  },
  {
   "cell_type": "markdown",
   "metadata": {
    "id": "JPXOxLSqh5cP"
   },
   "source": [
    "Understanding the above results::\n",
    "*   **Step**: the total training steps.\n",
    "*  **MaxR**: the maximum reward.\n",
    "*   **avgR**: the average of the rewards.\n",
    "*   **stdR**: the standard deviation of the rewards.\n",
    "*   **objA**: the objective function value of Actor Network (Policy Network).\n",
    "*   **objC**: the objective function value (Q-value)  of Critic Network (Value Network)."
   ]
  },
  {
   "cell_type": "code",
   "execution_count": 29,
   "metadata": {},
   "outputs": [
    {
     "ename": "AttributeError",
     "evalue": "'NoneType' object has no attribute 'args'",
     "output_type": "error",
     "traceback": [
      "\u001b[1;31m---------------------------------------------------------------------------\u001b[0m",
      "\u001b[1;31mAttributeError\u001b[0m                            Traceback (most recent call last)",
      "\u001b[1;32m~\\AppData\\Local\\Temp\\ipykernel_13004\\1182273474.py\u001b[0m in \u001b[0;36m<module>\u001b[1;34m\u001b[0m\n\u001b[1;32m----> 1\u001b[1;33m \u001b[0magent\u001b[0m\u001b[1;33m.\u001b[0m\u001b[0margs\u001b[0m\u001b[1;33m(\u001b[0m\u001b[1;33m)\u001b[0m\u001b[1;33m\u001b[0m\u001b[1;33m\u001b[0m\u001b[0m\n\u001b[0m",
      "\u001b[1;31mAttributeError\u001b[0m: 'NoneType' object has no attribute 'args'"
     ]
    }
   ],
   "source": []
  },
  {
   "cell_type": "code",
   "execution_count": 30,
   "metadata": {},
   "outputs": [
    {
     "ename": "TypeError",
     "evalue": "'int' object is not iterable",
     "output_type": "error",
     "traceback": [
      "\u001b[1;31m---------------------------------------------------------------------------\u001b[0m",
      "\u001b[1;31mTypeError\u001b[0m                                 Traceback (most recent call last)",
      "\u001b[1;32m~\\AppData\\Local\\Temp\\ipykernel_13004\\3408100956.py\u001b[0m in \u001b[0;36m<module>\u001b[1;34m\u001b[0m\n\u001b[0;32m      1\u001b[0m render_agent(env_class=env_func, env_args=env_args, net_dims=24, agent_class=AgentPPO,\n\u001b[1;32m----> 2\u001b[1;33m              actor_path=os.path.join(args.cwd, 'act.pth'), render_times=3)\n\u001b[0m",
      "\u001b[1;32mc:\\users\\admin\\.pyenv\\pyenv-win\\versions\\3.7.9\\lib\\site-packages\\elegantrl\\train\\run.py\u001b[0m in \u001b[0;36mrender_agent\u001b[1;34m(env_class, env_args, net_dims, agent_class, actor_path, render_times)\u001b[0m\n\u001b[0;32m    349\u001b[0m     \u001b[0mstate_dim\u001b[0m \u001b[1;33m=\u001b[0m \u001b[0menv_args\u001b[0m\u001b[1;33m[\u001b[0m\u001b[1;34m'state_dim'\u001b[0m\u001b[1;33m]\u001b[0m\u001b[1;33m\u001b[0m\u001b[1;33m\u001b[0m\u001b[0m\n\u001b[0;32m    350\u001b[0m     \u001b[0maction_dim\u001b[0m \u001b[1;33m=\u001b[0m \u001b[0menv_args\u001b[0m\u001b[1;33m[\u001b[0m\u001b[1;34m'action_dim'\u001b[0m\u001b[1;33m]\u001b[0m\u001b[1;33m\u001b[0m\u001b[1;33m\u001b[0m\u001b[0m\n\u001b[1;32m--> 351\u001b[1;33m     \u001b[0magent\u001b[0m \u001b[1;33m=\u001b[0m \u001b[0magent_class\u001b[0m\u001b[1;33m(\u001b[0m\u001b[0mnet_dims\u001b[0m\u001b[1;33m,\u001b[0m \u001b[0mstate_dim\u001b[0m\u001b[1;33m,\u001b[0m \u001b[0maction_dim\u001b[0m\u001b[1;33m,\u001b[0m \u001b[0mgpu_id\u001b[0m\u001b[1;33m=\u001b[0m\u001b[1;33m-\u001b[0m\u001b[1;36m1\u001b[0m\u001b[1;33m)\u001b[0m\u001b[1;33m\u001b[0m\u001b[1;33m\u001b[0m\u001b[0m\n\u001b[0m\u001b[0;32m    352\u001b[0m     \u001b[0mactor\u001b[0m \u001b[1;33m=\u001b[0m \u001b[0magent\u001b[0m\u001b[1;33m.\u001b[0m\u001b[0mact\u001b[0m\u001b[1;33m\u001b[0m\u001b[1;33m\u001b[0m\u001b[0m\n\u001b[0;32m    353\u001b[0m     \u001b[1;32mdel\u001b[0m \u001b[0magent\u001b[0m\u001b[1;33m\u001b[0m\u001b[1;33m\u001b[0m\u001b[0m\n",
      "\u001b[1;32mc:\\users\\admin\\.pyenv\\pyenv-win\\versions\\3.7.9\\lib\\site-packages\\elegantrl\\agents\\AgentPPO.py\u001b[0m in \u001b[0;36m__init__\u001b[1;34m(self, net_dims, state_dim, action_dim, gpu_id, args)\u001b[0m\n\u001b[0;32m     23\u001b[0m         \u001b[0mself\u001b[0m\u001b[1;33m.\u001b[0m\u001b[0mact_class\u001b[0m \u001b[1;33m=\u001b[0m \u001b[0mgetattr\u001b[0m\u001b[1;33m(\u001b[0m\u001b[0mself\u001b[0m\u001b[1;33m,\u001b[0m \u001b[1;34m\"act_class\"\u001b[0m\u001b[1;33m,\u001b[0m \u001b[0mActorPPO\u001b[0m\u001b[1;33m)\u001b[0m\u001b[1;33m\u001b[0m\u001b[1;33m\u001b[0m\u001b[0m\n\u001b[0;32m     24\u001b[0m         \u001b[0mself\u001b[0m\u001b[1;33m.\u001b[0m\u001b[0mcri_class\u001b[0m \u001b[1;33m=\u001b[0m \u001b[0mgetattr\u001b[0m\u001b[1;33m(\u001b[0m\u001b[0mself\u001b[0m\u001b[1;33m,\u001b[0m \u001b[1;34m\"cri_class\"\u001b[0m\u001b[1;33m,\u001b[0m \u001b[0mCriticPPO\u001b[0m\u001b[1;33m)\u001b[0m\u001b[1;33m\u001b[0m\u001b[1;33m\u001b[0m\u001b[0m\n\u001b[1;32m---> 25\u001b[1;33m         \u001b[0msuper\u001b[0m\u001b[1;33m(\u001b[0m\u001b[1;33m)\u001b[0m\u001b[1;33m.\u001b[0m\u001b[0m__init__\u001b[0m\u001b[1;33m(\u001b[0m\u001b[0mnet_dims\u001b[0m\u001b[1;33m=\u001b[0m\u001b[0mnet_dims\u001b[0m\u001b[1;33m,\u001b[0m \u001b[0mstate_dim\u001b[0m\u001b[1;33m=\u001b[0m\u001b[0mstate_dim\u001b[0m\u001b[1;33m,\u001b[0m \u001b[0maction_dim\u001b[0m\u001b[1;33m=\u001b[0m\u001b[0maction_dim\u001b[0m\u001b[1;33m,\u001b[0m \u001b[0mgpu_id\u001b[0m\u001b[1;33m=\u001b[0m\u001b[0mgpu_id\u001b[0m\u001b[1;33m,\u001b[0m \u001b[0margs\u001b[0m\u001b[1;33m=\u001b[0m\u001b[0margs\u001b[0m\u001b[1;33m)\u001b[0m\u001b[1;33m\u001b[0m\u001b[1;33m\u001b[0m\u001b[0m\n\u001b[0m\u001b[0;32m     26\u001b[0m         \u001b[0mself\u001b[0m\u001b[1;33m.\u001b[0m\u001b[0mif_off_policy\u001b[0m \u001b[1;33m=\u001b[0m \u001b[1;32mFalse\u001b[0m\u001b[1;33m\u001b[0m\u001b[1;33m\u001b[0m\u001b[0m\n\u001b[0;32m     27\u001b[0m \u001b[1;33m\u001b[0m\u001b[0m\n",
      "\u001b[1;32mc:\\users\\admin\\.pyenv\\pyenv-win\\versions\\3.7.9\\lib\\site-packages\\elegantrl\\agents\\AgentBase.py\u001b[0m in \u001b[0;36m__init__\u001b[1;34m(self, net_dims, state_dim, action_dim, gpu_id, args)\u001b[0m\n\u001b[0;32m     39\u001b[0m         \u001b[0mact_class\u001b[0m \u001b[1;33m=\u001b[0m \u001b[0mgetattr\u001b[0m\u001b[1;33m(\u001b[0m\u001b[0mself\u001b[0m\u001b[1;33m,\u001b[0m \u001b[1;34m\"act_class\"\u001b[0m\u001b[1;33m,\u001b[0m \u001b[1;32mNone\u001b[0m\u001b[1;33m)\u001b[0m\u001b[1;33m\u001b[0m\u001b[1;33m\u001b[0m\u001b[0m\n\u001b[0;32m     40\u001b[0m         \u001b[0mcri_class\u001b[0m \u001b[1;33m=\u001b[0m \u001b[0mgetattr\u001b[0m\u001b[1;33m(\u001b[0m\u001b[0mself\u001b[0m\u001b[1;33m,\u001b[0m \u001b[1;34m\"cri_class\"\u001b[0m\u001b[1;33m,\u001b[0m \u001b[1;32mNone\u001b[0m\u001b[1;33m)\u001b[0m\u001b[1;33m\u001b[0m\u001b[1;33m\u001b[0m\u001b[0m\n\u001b[1;32m---> 41\u001b[1;33m         \u001b[0mself\u001b[0m\u001b[1;33m.\u001b[0m\u001b[0mact\u001b[0m \u001b[1;33m=\u001b[0m \u001b[0mself\u001b[0m\u001b[1;33m.\u001b[0m\u001b[0mact_target\u001b[0m \u001b[1;33m=\u001b[0m \u001b[0mact_class\u001b[0m\u001b[1;33m(\u001b[0m\u001b[0mnet_dims\u001b[0m\u001b[1;33m,\u001b[0m \u001b[0mstate_dim\u001b[0m\u001b[1;33m,\u001b[0m \u001b[0maction_dim\u001b[0m\u001b[1;33m)\u001b[0m\u001b[1;33m.\u001b[0m\u001b[0mto\u001b[0m\u001b[1;33m(\u001b[0m\u001b[0mself\u001b[0m\u001b[1;33m.\u001b[0m\u001b[0mdevice\u001b[0m\u001b[1;33m)\u001b[0m\u001b[1;33m\u001b[0m\u001b[1;33m\u001b[0m\u001b[0m\n\u001b[0m\u001b[0;32m     42\u001b[0m         \u001b[0mself\u001b[0m\u001b[1;33m.\u001b[0m\u001b[0mcri\u001b[0m \u001b[1;33m=\u001b[0m \u001b[0mself\u001b[0m\u001b[1;33m.\u001b[0m\u001b[0mcri_target\u001b[0m \u001b[1;33m=\u001b[0m \u001b[0mcri_class\u001b[0m\u001b[1;33m(\u001b[0m\u001b[0mnet_dims\u001b[0m\u001b[1;33m,\u001b[0m \u001b[0mstate_dim\u001b[0m\u001b[1;33m,\u001b[0m \u001b[0maction_dim\u001b[0m\u001b[1;33m)\u001b[0m\u001b[1;33m.\u001b[0m\u001b[0mto\u001b[0m\u001b[1;33m(\u001b[0m\u001b[0mself\u001b[0m\u001b[1;33m.\u001b[0m\u001b[0mdevice\u001b[0m\u001b[1;33m)\u001b[0m\u001b[0;31m \u001b[0m\u001b[0;31m\\\u001b[0m\u001b[1;33m\u001b[0m\u001b[1;33m\u001b[0m\u001b[0m\n\u001b[0;32m     43\u001b[0m             \u001b[1;32mif\u001b[0m \u001b[0mcri_class\u001b[0m \u001b[1;32melse\u001b[0m \u001b[0mself\u001b[0m\u001b[1;33m.\u001b[0m\u001b[0mact\u001b[0m\u001b[1;33m\u001b[0m\u001b[1;33m\u001b[0m\u001b[0m\n",
      "\u001b[1;32mc:\\users\\admin\\.pyenv\\pyenv-win\\versions\\3.7.9\\lib\\site-packages\\elegantrl\\agents\\net.py\u001b[0m in \u001b[0;36m__init__\u001b[1;34m(self, dims, state_dim, action_dim)\u001b[0m\n\u001b[0;32m    272\u001b[0m     \u001b[1;32mdef\u001b[0m \u001b[0m__init__\u001b[0m\u001b[1;33m(\u001b[0m\u001b[0mself\u001b[0m\u001b[1;33m,\u001b[0m \u001b[0mdims\u001b[0m\u001b[1;33m:\u001b[0m \u001b[1;33m[\u001b[0m\u001b[0mint\u001b[0m\u001b[1;33m]\u001b[0m\u001b[1;33m,\u001b[0m \u001b[0mstate_dim\u001b[0m\u001b[1;33m:\u001b[0m \u001b[0mint\u001b[0m\u001b[1;33m,\u001b[0m \u001b[0maction_dim\u001b[0m\u001b[1;33m:\u001b[0m \u001b[0mint\u001b[0m\u001b[1;33m)\u001b[0m\u001b[1;33m:\u001b[0m\u001b[1;33m\u001b[0m\u001b[1;33m\u001b[0m\u001b[0m\n\u001b[0;32m    273\u001b[0m         \u001b[0msuper\u001b[0m\u001b[1;33m(\u001b[0m\u001b[1;33m)\u001b[0m\u001b[1;33m.\u001b[0m\u001b[0m__init__\u001b[0m\u001b[1;33m(\u001b[0m\u001b[0mstate_dim\u001b[0m\u001b[1;33m=\u001b[0m\u001b[0mstate_dim\u001b[0m\u001b[1;33m,\u001b[0m \u001b[0maction_dim\u001b[0m\u001b[1;33m=\u001b[0m\u001b[0maction_dim\u001b[0m\u001b[1;33m)\u001b[0m\u001b[1;33m\u001b[0m\u001b[1;33m\u001b[0m\u001b[0m\n\u001b[1;32m--> 274\u001b[1;33m         \u001b[0mself\u001b[0m\u001b[1;33m.\u001b[0m\u001b[0mnet\u001b[0m \u001b[1;33m=\u001b[0m \u001b[0mbuild_mlp\u001b[0m\u001b[1;33m(\u001b[0m\u001b[0mdims\u001b[0m\u001b[1;33m=\u001b[0m\u001b[1;33m[\u001b[0m\u001b[0mstate_dim\u001b[0m\u001b[1;33m,\u001b[0m \u001b[1;33m*\u001b[0m\u001b[0mdims\u001b[0m\u001b[1;33m,\u001b[0m \u001b[0maction_dim\u001b[0m\u001b[1;33m]\u001b[0m\u001b[1;33m)\u001b[0m\u001b[1;33m\u001b[0m\u001b[1;33m\u001b[0m\u001b[0m\n\u001b[0m\u001b[0;32m    275\u001b[0m         \u001b[0mlayer_init_with_orthogonal\u001b[0m\u001b[1;33m(\u001b[0m\u001b[0mself\u001b[0m\u001b[1;33m.\u001b[0m\u001b[0mnet\u001b[0m\u001b[1;33m[\u001b[0m\u001b[1;33m-\u001b[0m\u001b[1;36m1\u001b[0m\u001b[1;33m]\u001b[0m\u001b[1;33m,\u001b[0m \u001b[0mstd\u001b[0m\u001b[1;33m=\u001b[0m\u001b[1;36m0.1\u001b[0m\u001b[1;33m)\u001b[0m\u001b[1;33m\u001b[0m\u001b[1;33m\u001b[0m\u001b[0m\n\u001b[0;32m    276\u001b[0m \u001b[1;33m\u001b[0m\u001b[0m\n",
      "\u001b[1;31mTypeError\u001b[0m: 'int' object is not iterable"
     ]
    }
   ],
   "source": []
  },
  {
   "cell_type": "code",
   "execution_count": 17,
   "metadata": {},
   "outputs": [
    {
     "ename": "AttributeError",
     "evalue": "'Config' object has no attribute 'agent'",
     "output_type": "error",
     "traceback": [
      "\u001b[1;31m---------------------------------------------------------------------------\u001b[0m",
      "\u001b[1;31mAttributeError\u001b[0m                            Traceback (most recent call last)",
      "\u001b[1;32m~\\AppData\\Local\\Temp\\ipykernel_13004\\3628420373.py\u001b[0m in \u001b[0;36m<module>\u001b[1;34m\u001b[0m\n\u001b[1;32m----> 1\u001b[1;33m loaded_agent = AgentPPO(net_dim=args.agent['net_dim'], state_dim=args.state_dim, action_dim=args.action_dim,\n\u001b[0m\u001b[0;32m      2\u001b[0m                         if_discrete=args.if_discrete, gpu_id=args.gpu_id)\n\u001b[0;32m      3\u001b[0m \u001b[0mloaded_agent\u001b[0m\u001b[1;33m.\u001b[0m\u001b[0msave_or_load_agent\u001b[0m\u001b[1;33m(\u001b[0m\u001b[0mcwd\u001b[0m\u001b[1;33m=\u001b[0m\u001b[0margs\u001b[0m\u001b[1;33m.\u001b[0m\u001b[0mcwd\u001b[0m\u001b[1;33m,\u001b[0m \u001b[0mif_save\u001b[0m\u001b[1;33m=\u001b[0m\u001b[1;32mFalse\u001b[0m\u001b[1;33m)\u001b[0m\u001b[1;33m\u001b[0m\u001b[1;33m\u001b[0m\u001b[0m\n\u001b[0;32m      4\u001b[0m \u001b[1;33m\u001b[0m\u001b[0m\n\u001b[0;32m      5\u001b[0m \u001b[1;31m# Use the render_agent function\u001b[0m\u001b[1;33m\u001b[0m\u001b[1;33m\u001b[0m\u001b[1;33m\u001b[0m\u001b[0m\n",
      "\u001b[1;31mAttributeError\u001b[0m: 'Config' object has no attribute 'agent'"
     ]
    }
   ],
   "source": [
    "\n"
   ]
  },
  {
   "cell_type": "code",
   "execution_count": null,
   "metadata": {},
   "outputs": [],
   "source": []
  }
 ],
 "metadata": {
  "accelerator": "GPU",
  "colab": {
   "provenance": []
  },
  "kernelspec": {
   "display_name": "Python 3 (ipykernel)",
   "language": "python",
   "name": "python3"
  },
  "language_info": {
   "codemirror_mode": {
    "name": "ipython",
    "version": 3
   },
   "file_extension": ".py",
   "mimetype": "text/x-python",
   "name": "python",
   "nbconvert_exporter": "python",
   "pygments_lexer": "ipython3",
   "version": "3.7.9"
  },
  "vscode": {
   "interpreter": {
    "hash": "8fec15aaf15af2f7b25d7149644915fb0538c5beb7ab358bd639337cd8050469"
   }
  }
 },
 "nbformat": 4,
 "nbformat_minor": 1
}
