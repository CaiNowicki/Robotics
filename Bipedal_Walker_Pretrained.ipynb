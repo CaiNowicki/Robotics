{
 "cells": [
  {
   "cell_type": "code",
   "execution_count": null,
   "id": "6662e689",
   "metadata": {
    "scrolled": true
   },
   "outputs": [],
   "source": [
    "import torch\n",
    "import gym\n",
    "from elegantrl.agents import AgentPPO\n",
    "from elegantrl.train.config import get_gym_env_args, Config\n",
    "from elegantrl.train.run import train_agent\n",
    "\n",
    "# Load pre-trained agent for standard mode\n",
    "standard_env_name = \"BipedalWalker-v3\"\n",
    "standard_agent_path = \"BipedalWalker-v3_PPO/act.pth\"  # Replace with the actual path\n",
    "standard_agent = AgentPPO([64, 32], state_dim=24, action_dim=4)\n",
    "standard_agent.save_or_load_agent(cwd='./', if_save=False)\n",
    "\n",
    "# Create a new agent for Hardcore mode\n",
    "hardcore_env_name = \"BipedalWalkerHardcore\"\n",
    "hardcore_agent = AgentPPO([64, 32], state_dim=24, action_dim=4)\n",
    "\n",
    "\n",
    "# Transfer weights from pre-trained agent to the new agent\n",
    "hardcore_agent.act.load_state_dict(standard_agent.act.state_dict())\n",
    "\n",
    "# Save the initialized agent for Hardcore mode\n",
    "hardcore_agent_init_path = \"BipedalWalkerHardcore_PPO_0/init_act.pth\"  # Replace with the desired path\n",
    "torch.save(hardcore_agent.act.state_dict(), hardcore_agent_init_path)\n",
    "\n",
    "# Specify hyper-parameters\n",
    "env_args = {\n",
    "    \"env_num\": 1,\n",
    "    \"env_name\": \"BipedalWalkerHardcore\",\n",
    "    \"max_step\": 1600,\n",
    "    \"state_dim\": 24,\n",
    "    \"action_dim\": 4,\n",
    "    \"if_discrete\": False,\n",
    "    \"target_return\": 300,\n",
    "    \"id\": \"BipedalWalker-v3\",\n",
    "}\n",
    "args = Config(AgentPPO, env_class=gym.make, env_args=env_args)\n",
    "\n",
    "# Set the initialized agent path in the training arguments\n",
    "#args.init_before_training()\n",
    "# Specify hyper-parameters\n",
    "args.target_step = args.max_step * 4\n",
    "args.gamma = 0.98\n",
    "args.eval_times = 2**2\n",
    "args.repeat_times = 8\n",
    "args.break_step = 5000000\n",
    "\n",
    "# Train and Evaluate the Agent\n",
    "train_agent(args);  #the semicolon stops it from printing?\n",
    "print(\"Training Complete\")"
   ]
  },
  {
   "cell_type": "code",
   "execution_count": null,
   "id": "41fd24d4",
   "metadata": {},
   "outputs": [],
   "source": []
  }
 ],
 "metadata": {
  "kernelspec": {
   "display_name": "Python 3 (ipykernel)",
   "language": "python",
   "name": "python3"
  },
  "language_info": {
   "codemirror_mode": {
    "name": "ipython",
    "version": 3
   },
   "file_extension": ".py",
   "mimetype": "text/x-python",
   "name": "python",
   "nbconvert_exporter": "python",
   "pygments_lexer": "ipython3",
   "version": "3.7.9"
  }
 },
 "nbformat": 4,
 "nbformat_minor": 5
}
